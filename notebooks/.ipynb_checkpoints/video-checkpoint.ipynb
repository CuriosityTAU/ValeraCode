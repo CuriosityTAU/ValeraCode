{
 "cells": [
  {
   "cell_type": "markdown",
   "id": "501b78b2-89d4-4965-bee6-4c9932b506c6",
   "metadata": {},
   "source": [
    "## System test\n",
    "\n",
    "Let's check if the current user has admin rights or included into the 'video' group"
   ]
  },
  {
   "cell_type": "code",
   "execution_count": 5,
   "id": "e1413ca9-b408-4724-a649-982d5d125b31",
   "metadata": {},
   "outputs": [
    {
     "name": "stdout",
     "output_type": "stream",
     "text": [
      "uid=1000(jovyan) gid=44(video) groups=44(video)\n"
     ]
    }
   ],
   "source": [
    "!id"
   ]
  },
  {
   "cell_type": "markdown",
   "id": "5e8d8a0d-d5d8-4a5e-a17f-3627cb3bcc81",
   "metadata": {},
   "source": [
    "List video devices available for Jupyter"
   ]
  },
  {
   "cell_type": "code",
   "execution_count": 4,
   "id": "b2fd3df4-5618-4572-bede-305f28045908",
   "metadata": {},
   "outputs": [
    {
     "name": "stdout",
     "output_type": "stream",
     "text": [
      "\u001b[0m\u001b[01;33m/dev/video0\u001b[0m   \u001b[01;33m/dev/video14\u001b[0m  \u001b[01;33m/dev/video17\u001b[0m  \u001b[01;33m/dev/video20\u001b[0m  \u001b[01;33m/dev/videosync\u001b[0m\n",
      "\u001b[01;33m/dev/video10\u001b[0m  \u001b[01;33m/dev/video15\u001b[0m  \u001b[01;33m/dev/video18\u001b[0m  \u001b[01;33m/dev/video21\u001b[0m\n",
      "\u001b[01;33m/dev/video13\u001b[0m  \u001b[01;33m/dev/video16\u001b[0m  \u001b[01;33m/dev/video19\u001b[0m  \u001b[01;33m/dev/video23\u001b[0m\n"
     ]
    }
   ],
   "source": [
    "ls /dev/video*"
   ]
  },
  {
   "cell_type": "markdown",
   "id": "826338af-f474-4844-9aa7-9f05f4c48bb0",
   "metadata": {},
   "source": [
    "## Video test\n",
    "\n",
    "To read camera image the next algorithm can be used:\n",
    "\n",
    "```python\n",
    "# Activate camera object\n",
    "cap = cv2.VideoCapture(0)\n",
    "\n",
    "# Take a picture\n",
    "_, frame = cap.read()\n",
    "\n",
    "# Convert the picture to bytes\n",
    "_, frame = cv2.imencode('.png', frame)\n",
    "frame = frame.tobytes()\n",
    "\n",
    "# Release the camera object\n",
    "cap.release()```\n"
   ]
  },
  {
   "cell_type": "code",
   "execution_count": 6,
   "id": "7bf6e8a2-4f89-4d8c-9119-84fdfc0c7282",
   "metadata": {},
   "outputs": [
    {
     "data": {
      "application/vnd.jupyter.widget-view+json": {
       "model_id": "8f820699f2784063ac7eb2ce2393e497",
       "version_major": 2,
       "version_minor": 0
      },
      "text/html": [
       "Cannot show widget. You probably want to rerun the code cell above (<i>Click in the code cell, and press Shift+Enter <kbd>⇧</kbd>+<kbd>↩</kbd></i>)."
      ],
      "text/plain": [
       "Cannot show ipywidgets in text"
      ]
     },
     "metadata": {},
     "output_type": "display_data"
    }
   ],
   "source": [
    "import solara, cv2\n",
    "from time import sleep\n",
    "\n",
    "@solara.component\n",
    "def Page(): \n",
    "    frame_react = solara.use_reactive(None)\n",
    "    video_running_react = solara.use_reactive(False)\n",
    "    cap_react = solara.use_reactive(None)\n",
    "    \n",
    "    def change_state():\n",
    "        if not video_running_react.value:\n",
    "            cap_react.value = cv2.VideoCapture(0)\n",
    "            video_running_react.value = True\n",
    "        else:\n",
    "            video_running_react.value = False\n",
    "            sleep(1)\n",
    "            frame_react.value = None\n",
    "            cap_react.value.release()\n",
    "            \n",
    "    def show_image():\n",
    "        while True:\n",
    "            if video_running_react.value and cap_react.value is not None:\n",
    "                frame = cv2.flip(cap_react.value.read()[1], 1)\n",
    "                frame_react.value = cv2.imencode('.png', frame)[1].tobytes()\n",
    "    \n",
    "    with solara.Card(title=\"Robot video\"):\n",
    "        solara.Button(\n",
    "            label = 'Stop Video' if video_running_react.value else 'Start Video', \n",
    "                on_click = change_state)\n",
    "        if frame_react.value is not None:\n",
    "            solara.Image(frame_react.value) \n",
    "\n",
    "    solara.use_thread(show_image)\n",
    "\n",
    "Page()"
   ]
  },
  {
   "cell_type": "code",
   "execution_count": 2,
   "id": "6becc8e0-7063-4261-990e-e6cdc4f22f74",
   "metadata": {},
   "outputs": [
    {
     "name": "stdout",
     "output_type": "stream",
     "text": [
      "Collecting adafruit-circuitpython-servokit\n",
      "  Obtaining dependency information for adafruit-circuitpython-servokit from https://files.pythonhosted.org/packages/ba/0c/3eba1775c6c22474feaee39efa804c719b0b0cc00b2d5524cd7874d92f2c/adafruit_circuitpython_servokit-1.3.17-py3-none-any.whl.metadata\n",
      "  Downloading adafruit_circuitpython_servokit-1.3.17-py3-none-any.whl.metadata (4.2 kB)\n",
      "Collecting Adafruit-Blinka>=7.0.0 (from adafruit-circuitpython-servokit)\n",
      "  Obtaining dependency information for Adafruit-Blinka>=7.0.0 from https://files.pythonhosted.org/packages/c3/f8/40b35d52dbfaf5d29b77b621f80a0e2ad921b0d8a0352185e61750c4ffe7/Adafruit_Blinka-8.27.0-py3-none-any.whl.metadata\n",
      "  Downloading Adafruit_Blinka-8.27.0-py3-none-any.whl.metadata (5.3 kB)\n",
      "Collecting adafruit-circuitpython-busdevice (from adafruit-circuitpython-servokit)\n",
      "  Obtaining dependency information for adafruit-circuitpython-busdevice from https://files.pythonhosted.org/packages/46/59/1a187155643f491b6bea2e66d455c8f34751353042e5113a609009c6d257/adafruit_circuitpython_busdevice-5.2.6-py3-none-any.whl.metadata\n",
      "  Downloading adafruit_circuitpython_busdevice-5.2.6-py3-none-any.whl.metadata (4.0 kB)\n",
      "Collecting adafruit-circuitpython-pca9685 (from adafruit-circuitpython-servokit)\n",
      "  Obtaining dependency information for adafruit-circuitpython-pca9685 from https://files.pythonhosted.org/packages/b7/3d/692d50679a05374e1529fad70fdd33f816d7dfddcbca1b12047af9c721c3/adafruit_circuitpython_pca9685-3.4.11-py3-none-any.whl.metadata\n",
      "  Downloading adafruit_circuitpython_pca9685-3.4.11-py3-none-any.whl.metadata (3.6 kB)\n",
      "Collecting adafruit-circuitpython-motor (from adafruit-circuitpython-servokit)\n",
      "  Obtaining dependency information for adafruit-circuitpython-motor from https://files.pythonhosted.org/packages/07/3c/6d30e111390b1a0d4b7ea8af44c35bad7efa01411f2003a128bd0774ed6a/adafruit_circuitpython_motor-3.4.13-py3-none-any.whl.metadata\n",
      "  Downloading adafruit_circuitpython_motor-3.4.13-py3-none-any.whl.metadata (3.5 kB)\n",
      "Collecting adafruit-circuitpython-register (from adafruit-circuitpython-servokit)\n",
      "  Obtaining dependency information for adafruit-circuitpython-register from https://files.pythonhosted.org/packages/1e/5e/bb4a374ccb7d75f9c8cc22ed9b18f4f568a09f4828446845ae65384f6cc1/adafruit_circuitpython_register-1.9.18-py3-none-any.whl.metadata\n",
      "  Downloading adafruit_circuitpython_register-1.9.18-py3-none-any.whl.metadata (9.3 kB)\n",
      "Collecting Adafruit-PlatformDetect>=3.53.0 (from Adafruit-Blinka>=7.0.0->adafruit-circuitpython-servokit)\n",
      "  Obtaining dependency information for Adafruit-PlatformDetect>=3.53.0 from https://files.pythonhosted.org/packages/f2/cb/c50545faab9419ea705a5e14b417c00b32c56998717129b02c45a45a10e3/Adafruit_PlatformDetect-3.57.0-py3-none-any.whl.metadata\n",
      "  Downloading Adafruit_PlatformDetect-3.57.0-py3-none-any.whl.metadata (3.8 kB)\n",
      "Collecting Adafruit-PureIO>=1.1.7 (from Adafruit-Blinka>=7.0.0->adafruit-circuitpython-servokit)\n",
      "  Obtaining dependency information for Adafruit-PureIO>=1.1.7 from https://files.pythonhosted.org/packages/19/9d/28e9d12f36e13c5f2acba3098187b0e931290ecd1d8df924391b5ad2db19/Adafruit_PureIO-1.1.11-py3-none-any.whl.metadata\n",
      "  Downloading Adafruit_PureIO-1.1.11-py3-none-any.whl.metadata (3.0 kB)\n",
      "Collecting pyftdi>=0.40.0 (from Adafruit-Blinka>=7.0.0->adafruit-circuitpython-servokit)\n",
      "  Obtaining dependency information for pyftdi>=0.40.0 from https://files.pythonhosted.org/packages/10/d0/ec7b1a4364b6b68952b6925841ef1b5ee2a4df75e27d9fd2527492cd7370/pyftdi-0.55.0-py3-none-any.whl.metadata\n",
      "  Downloading pyftdi-0.55.0-py3-none-any.whl.metadata (3.1 kB)\n",
      "Collecting adafruit-circuitpython-typing (from Adafruit-Blinka>=7.0.0->adafruit-circuitpython-servokit)\n",
      "  Obtaining dependency information for adafruit-circuitpython-typing from https://files.pythonhosted.org/packages/07/aa/cd06a3d7146bcedb6d68312c237cf40c506275e446691fedf9424ec9156b/adafruit_circuitpython_typing-1.9.6-py3-none-any.whl.metadata\n",
      "  Downloading adafruit_circuitpython_typing-1.9.6-py3-none-any.whl.metadata (3.2 kB)\n",
      "Requirement already satisfied: typing-extensions~=4.0 in /opt/conda/lib/python3.11/site-packages (from adafruit-circuitpython-register->adafruit-circuitpython-servokit) (4.7.1)\n",
      "Collecting adafruit-circuitpython-requests (from adafruit-circuitpython-typing->Adafruit-Blinka>=7.0.0->adafruit-circuitpython-servokit)\n",
      "  Obtaining dependency information for adafruit-circuitpython-requests from https://files.pythonhosted.org/packages/9d/16/cc0714bbdf899168d5285eb8d685ed5887f3c2891912dd2f77390d84afe8/adafruit_circuitpython_requests-2.0.3-py3-none-any.whl.metadata\n",
      "  Downloading adafruit_circuitpython_requests-2.0.3-py3-none-any.whl.metadata (3.3 kB)\n",
      "Collecting pyusb!=1.2.0,>=1.0.0 (from pyftdi>=0.40.0->Adafruit-Blinka>=7.0.0->adafruit-circuitpython-servokit)\n",
      "  Downloading pyusb-1.2.1-py3-none-any.whl (58 kB)\n",
      "\u001b[2K     \u001b[90m━━━━━━━━━━━━━━━━━━━━━━━━━━━━━━━━━━━━━━━\u001b[0m \u001b[32m58.4/58.4 kB\u001b[0m \u001b[31m571.0 kB/s\u001b[0m eta \u001b[36m0:00:00\u001b[0ma \u001b[36m0:00:01\u001b[0m\n",
      "\u001b[?25hCollecting pyserial>=3.0 (from pyftdi>=0.40.0->Adafruit-Blinka>=7.0.0->adafruit-circuitpython-servokit)\n",
      "  Downloading pyserial-3.5-py2.py3-none-any.whl (90 kB)\n",
      "\u001b[2K     \u001b[90m━━━━━━━━━━━━━━━━━━━━━━━━━━━━━━━━━━━━━━━━\u001b[0m \u001b[32m90.6/90.6 kB\u001b[0m \u001b[31m1.9 MB/s\u001b[0m eta \u001b[36m0:00:00\u001b[0ma \u001b[36m0:00:01\u001b[0m\n",
      "\u001b[?25hDownloading adafruit_circuitpython_servokit-1.3.17-py3-none-any.whl (5.7 kB)\n",
      "Downloading Adafruit_Blinka-8.27.0-py3-none-any.whl (315 kB)\n",
      "\u001b[2K   \u001b[90m━━━━━━━━━━━━━━━━━━━━━━━━━━━━━━━━━━━━━━━━\u001b[0m \u001b[32m315.9/315.9 kB\u001b[0m \u001b[31m1.7 MB/s\u001b[0m eta \u001b[36m0:00:00\u001b[0ma \u001b[36m0:00:01\u001b[0m\n",
      "\u001b[?25hDownloading adafruit_circuitpython_busdevice-5.2.6-py3-none-any.whl (7.5 kB)\n",
      "Downloading adafruit_circuitpython_motor-3.4.13-py3-none-any.whl (10 kB)\n",
      "Downloading adafruit_circuitpython_pca9685-3.4.11-py3-none-any.whl (6.0 kB)\n",
      "Downloading adafruit_circuitpython_register-1.9.18-py3-none-any.whl (14 kB)\n",
      "Downloading adafruit_circuitpython_typing-1.9.6-py3-none-any.whl (10 kB)\n",
      "Downloading Adafruit_PlatformDetect-3.57.0-py3-none-any.whl (23 kB)\n",
      "Downloading Adafruit_PureIO-1.1.11-py3-none-any.whl (10 kB)\n",
      "Downloading pyftdi-0.55.0-py3-none-any.whl (145 kB)\n",
      "\u001b[2K   \u001b[90m━━━━━━━━━━━━━━━━━━━━━━━━━━━━━━━━━━━━━━━━\u001b[0m \u001b[32m145.2/145.2 kB\u001b[0m \u001b[31m2.9 MB/s\u001b[0m eta \u001b[36m0:00:00\u001b[0m00:01\u001b[0m\n",
      "\u001b[?25hDownloading adafruit_circuitpython_requests-2.0.3-py3-none-any.whl (11 kB)\n",
      "Installing collected packages: pyserial, Adafruit-PlatformDetect, pyusb, Adafruit-PureIO, pyftdi, adafruit-circuitpython-requests, Adafruit-Blinka, adafruit-circuitpython-typing, adafruit-circuitpython-busdevice, adafruit-circuitpython-register, adafruit-circuitpython-pca9685, adafruit-circuitpython-motor, adafruit-circuitpython-servokit\n",
      "Successfully installed Adafruit-Blinka-8.27.0 Adafruit-PlatformDetect-3.57.0 Adafruit-PureIO-1.1.11 adafruit-circuitpython-busdevice-5.2.6 adafruit-circuitpython-motor-3.4.13 adafruit-circuitpython-pca9685-3.4.11 adafruit-circuitpython-register-1.9.18 adafruit-circuitpython-requests-2.0.3 adafruit-circuitpython-servokit-1.3.17 adafruit-circuitpython-typing-1.9.6 pyftdi-0.55.0 pyserial-3.5 pyusb-1.2.1\n"
     ]
    }
   ],
   "source": [
    "!pip install adafruit-circuitpython-servokit"
   ]
  },
  {
   "cell_type": "code",
   "execution_count": 5,
   "id": "b6fea2da-4e8d-4de0-9d09-391fbebbcab8",
   "metadata": {},
   "outputs": [
    {
     "name": "stdout",
     "output_type": "stream",
     "text": [
      "Requirement already satisfied: adafruit-circuitpython-pca9685 in /opt/conda/lib/python3.11/site-packages (3.4.11)\n",
      "Requirement already satisfied: Adafruit-Blinka in /opt/conda/lib/python3.11/site-packages (from adafruit-circuitpython-pca9685) (8.27.0)\n",
      "Requirement already satisfied: adafruit-circuitpython-register in /opt/conda/lib/python3.11/site-packages (from adafruit-circuitpython-pca9685) (1.9.18)\n",
      "Requirement already satisfied: adafruit-circuitpython-busdevice in /opt/conda/lib/python3.11/site-packages (from adafruit-circuitpython-pca9685) (5.2.6)\n",
      "Requirement already satisfied: Adafruit-PlatformDetect>=3.53.0 in /opt/conda/lib/python3.11/site-packages (from Adafruit-Blinka->adafruit-circuitpython-pca9685) (3.57.0)\n",
      "Requirement already satisfied: Adafruit-PureIO>=1.1.7 in /opt/conda/lib/python3.11/site-packages (from Adafruit-Blinka->adafruit-circuitpython-pca9685) (1.1.11)\n",
      "Requirement already satisfied: pyftdi>=0.40.0 in /opt/conda/lib/python3.11/site-packages (from Adafruit-Blinka->adafruit-circuitpython-pca9685) (0.55.0)\n",
      "Requirement already satisfied: adafruit-circuitpython-typing in /opt/conda/lib/python3.11/site-packages (from Adafruit-Blinka->adafruit-circuitpython-pca9685) (1.9.6)\n",
      "Requirement already satisfied: typing-extensions~=4.0 in /opt/conda/lib/python3.11/site-packages (from adafruit-circuitpython-register->adafruit-circuitpython-pca9685) (4.7.1)\n",
      "Requirement already satisfied: adafruit-circuitpython-requests in /opt/conda/lib/python3.11/site-packages (from adafruit-circuitpython-typing->Adafruit-Blinka->adafruit-circuitpython-pca9685) (2.0.3)\n",
      "Requirement already satisfied: pyusb!=1.2.0,>=1.0.0 in /opt/conda/lib/python3.11/site-packages (from pyftdi>=0.40.0->Adafruit-Blinka->adafruit-circuitpython-pca9685) (1.2.1)\n",
      "Requirement already satisfied: pyserial>=3.0 in /opt/conda/lib/python3.11/site-packages (from pyftdi>=0.40.0->Adafruit-Blinka->adafruit-circuitpython-pca9685) (3.5)\n",
      "Requirement already satisfied: adafruit-circuitpython-servokit in /opt/conda/lib/python3.11/site-packages (1.3.17)\n",
      "Requirement already satisfied: Adafruit-Blinka>=7.0.0 in /opt/conda/lib/python3.11/site-packages (from adafruit-circuitpython-servokit) (8.27.0)\n",
      "Requirement already satisfied: adafruit-circuitpython-busdevice in /opt/conda/lib/python3.11/site-packages (from adafruit-circuitpython-servokit) (5.2.6)\n",
      "Requirement already satisfied: adafruit-circuitpython-pca9685 in /opt/conda/lib/python3.11/site-packages (from adafruit-circuitpython-servokit) (3.4.11)\n",
      "Requirement already satisfied: adafruit-circuitpython-motor in /opt/conda/lib/python3.11/site-packages (from adafruit-circuitpython-servokit) (3.4.13)\n",
      "Requirement already satisfied: adafruit-circuitpython-register in /opt/conda/lib/python3.11/site-packages (from adafruit-circuitpython-servokit) (1.9.18)\n",
      "Requirement already satisfied: Adafruit-PlatformDetect>=3.53.0 in /opt/conda/lib/python3.11/site-packages (from Adafruit-Blinka>=7.0.0->adafruit-circuitpython-servokit) (3.57.0)\n",
      "Requirement already satisfied: Adafruit-PureIO>=1.1.7 in /opt/conda/lib/python3.11/site-packages (from Adafruit-Blinka>=7.0.0->adafruit-circuitpython-servokit) (1.1.11)\n",
      "Requirement already satisfied: pyftdi>=0.40.0 in /opt/conda/lib/python3.11/site-packages (from Adafruit-Blinka>=7.0.0->adafruit-circuitpython-servokit) (0.55.0)\n",
      "Requirement already satisfied: adafruit-circuitpython-typing in /opt/conda/lib/python3.11/site-packages (from Adafruit-Blinka>=7.0.0->adafruit-circuitpython-servokit) (1.9.6)\n",
      "Requirement already satisfied: typing-extensions~=4.0 in /opt/conda/lib/python3.11/site-packages (from adafruit-circuitpython-register->adafruit-circuitpython-servokit) (4.7.1)\n",
      "Requirement already satisfied: adafruit-circuitpython-requests in /opt/conda/lib/python3.11/site-packages (from adafruit-circuitpython-typing->Adafruit-Blinka>=7.0.0->adafruit-circuitpython-servokit) (2.0.3)\n",
      "Requirement already satisfied: pyusb!=1.2.0,>=1.0.0 in /opt/conda/lib/python3.11/site-packages (from pyftdi>=0.40.0->Adafruit-Blinka>=7.0.0->adafruit-circuitpython-servokit) (1.2.1)\n",
      "Requirement already satisfied: pyserial>=3.0 in /opt/conda/lib/python3.11/site-packages (from pyftdi>=0.40.0->Adafruit-Blinka>=7.0.0->adafruit-circuitpython-servokit) (3.5)\n"
     ]
    }
   ],
   "source": [
    "!pip install adafruit-circuitpython-pca9685\n",
    "!pip install adafruit-circuitpython-servokit"
   ]
  },
  {
   "cell_type": "code",
   "execution_count": 13,
   "id": "f73805b7-6411-4172-a742-882b2ae336e8",
   "metadata": {},
   "outputs": [
    {
     "ename": "ImportError",
     "evalue": "libgpiod Python bindings not found, please install and try again! See https://github.com/adafruit/Raspberry-Pi-Installer-Scripts/blob/master/libgpiod.sh",
     "output_type": "error",
     "traceback": [
      "\u001b[0;31m---------------------------------------------------------------------------\u001b[0m",
      "\u001b[0;31mImportError\u001b[0m                               Traceback (most recent call last)",
      "\u001b[0;31mImportError\u001b[0m: ",
      "\nThe above exception was the direct cause of the following exception:\n",
      "\u001b[0;31mImportError\u001b[0m                               Traceback (most recent call last)",
      "Cell \u001b[0;32mIn[13], line 2\u001b[0m\n\u001b[1;32m      1\u001b[0m \u001b[38;5;28;01mimport\u001b[39;00m \u001b[38;5;21;01mtime\u001b[39;00m\n\u001b[0;32m----> 2\u001b[0m \u001b[38;5;28;01mfrom\u001b[39;00m \u001b[38;5;21;01madafruit_servokit\u001b[39;00m \u001b[38;5;28;01mimport\u001b[39;00m ServoKit  \n",
      "File \u001b[0;32m/opt/conda/lib/python3.11/site-packages/adafruit_servokit.py:35\u001b[0m\n\u001b[1;32m      1\u001b[0m \u001b[38;5;66;03m# SPDX-FileCopyrightText: 2018 Kattni Rembor for Adafruit Industries\u001b[39;00m\n\u001b[1;32m      2\u001b[0m \u001b[38;5;66;03m#\u001b[39;00m\n\u001b[1;32m      3\u001b[0m \u001b[38;5;66;03m# SPDX-License-Identifier: MIT\u001b[39;00m\n\u001b[1;32m      5\u001b[0m \u001b[38;5;124;03m\"\"\"\u001b[39;00m\n\u001b[1;32m      6\u001b[0m \u001b[38;5;124;03m`adafruit_servokit`\u001b[39;00m\n\u001b[1;32m      7\u001b[0m \u001b[38;5;124;03m====================================================\u001b[39;00m\n\u001b[0;32m   (...)\u001b[0m\n\u001b[1;32m     32\u001b[0m \n\u001b[1;32m     33\u001b[0m \u001b[38;5;124;03m\"\"\"\u001b[39;00m\n\u001b[0;32m---> 35\u001b[0m \u001b[38;5;28;01mimport\u001b[39;00m \u001b[38;5;21;01mboard\u001b[39;00m\n\u001b[1;32m     36\u001b[0m \u001b[38;5;28;01mfrom\u001b[39;00m \u001b[38;5;21;01madafruit_pca9685\u001b[39;00m \u001b[38;5;28;01mimport\u001b[39;00m PCA9685\n\u001b[1;32m     38\u001b[0m \u001b[38;5;28;01mtry\u001b[39;00m:\n",
      "File \u001b[0;32m/opt/conda/lib/python3.11/site-packages/board.py:200\u001b[0m\n\u001b[1;32m    197\u001b[0m     \u001b[38;5;28;01mfrom\u001b[39;00m \u001b[38;5;21;01madafruit_blinka\u001b[39;00m\u001b[38;5;21;01m.\u001b[39;00m\u001b[38;5;21;01mboard\u001b[39;00m\u001b[38;5;21;01m.\u001b[39;00m\u001b[38;5;21;01mhardkernel\u001b[39;00m\u001b[38;5;21;01m.\u001b[39;00m\u001b[38;5;21;01modroidc4\u001b[39;00m \u001b[38;5;28;01mimport\u001b[39;00m \u001b[38;5;241m*\u001b[39m\n\u001b[1;32m    199\u001b[0m \u001b[38;5;28;01melif\u001b[39;00m board_id \u001b[38;5;241m==\u001b[39m ap_board\u001b[38;5;241m.\u001b[39mODROID_N2:\n\u001b[0;32m--> 200\u001b[0m     \u001b[38;5;28;01mfrom\u001b[39;00m \u001b[38;5;21;01madafruit_blinka\u001b[39;00m\u001b[38;5;21;01m.\u001b[39;00m\u001b[38;5;21;01mboard\u001b[39;00m\u001b[38;5;21;01m.\u001b[39;00m\u001b[38;5;21;01mhardkernel\u001b[39;00m\u001b[38;5;21;01m.\u001b[39;00m\u001b[38;5;21;01modroidn2\u001b[39;00m \u001b[38;5;28;01mimport\u001b[39;00m \u001b[38;5;241m*\u001b[39m\n\u001b[1;32m    202\u001b[0m \u001b[38;5;28;01melif\u001b[39;00m board_id \u001b[38;5;241m==\u001b[39m ap_board\u001b[38;5;241m.\u001b[39mODROID_M1:\n\u001b[1;32m    203\u001b[0m     \u001b[38;5;28;01mfrom\u001b[39;00m \u001b[38;5;21;01madafruit_blinka\u001b[39;00m\u001b[38;5;21;01m.\u001b[39;00m\u001b[38;5;21;01mboard\u001b[39;00m\u001b[38;5;21;01m.\u001b[39;00m\u001b[38;5;21;01mhardkernel\u001b[39;00m\u001b[38;5;21;01m.\u001b[39;00m\u001b[38;5;21;01modroidm1\u001b[39;00m \u001b[38;5;28;01mimport\u001b[39;00m \u001b[38;5;241m*\u001b[39m\n",
      "File \u001b[0;32m/opt/conda/lib/python3.11/site-packages/adafruit_blinka/board/hardkernel/odroidn2.py:6\u001b[0m\n\u001b[1;32m      1\u001b[0m \u001b[38;5;66;03m# SPDX-FileCopyrightText: 2021 Melissa LeBlanc-Williams for Adafruit Industries\u001b[39;00m\n\u001b[1;32m      2\u001b[0m \u001b[38;5;66;03m#\u001b[39;00m\n\u001b[1;32m      3\u001b[0m \u001b[38;5;66;03m# SPDX-License-Identifier: MIT\u001b[39;00m\n\u001b[1;32m      4\u001b[0m \u001b[38;5;124;03m\"\"\"Pin definitions for the Odroid N2.\"\"\"\u001b[39;00m\n\u001b[0;32m----> 6\u001b[0m \u001b[38;5;28;01mfrom\u001b[39;00m \u001b[38;5;21;01madafruit_blinka\u001b[39;00m\u001b[38;5;21;01m.\u001b[39;00m\u001b[38;5;21;01mmicrocontroller\u001b[39;00m\u001b[38;5;21;01m.\u001b[39;00m\u001b[38;5;21;01mamlogic\u001b[39;00m\u001b[38;5;21;01m.\u001b[39;00m\u001b[38;5;21;01ms922x\u001b[39;00m \u001b[38;5;28;01mimport\u001b[39;00m pin\n\u001b[1;32m      8\u001b[0m GPIOX_0 \u001b[38;5;241m=\u001b[39m pin\u001b[38;5;241m.\u001b[39mGPIO476\n\u001b[1;32m      9\u001b[0m GPIOX_1 \u001b[38;5;241m=\u001b[39m pin\u001b[38;5;241m.\u001b[39mGPIO477\n",
      "File \u001b[0;32m/opt/conda/lib/python3.11/site-packages/adafruit_blinka/microcontroller/amlogic/s922x/pin.py:6\u001b[0m\n\u001b[1;32m      4\u001b[0m \u001b[38;5;124;03m\"\"\"AmLogic s922x pin names\"\"\"\u001b[39;00m\n\u001b[1;32m      5\u001b[0m \u001b[38;5;66;03m# pylint: disable=wildcard-import,unused-wildcard-import\u001b[39;00m\n\u001b[0;32m----> 6\u001b[0m \u001b[38;5;28;01mfrom\u001b[39;00m \u001b[38;5;21;01madafruit_blinka\u001b[39;00m\u001b[38;5;21;01m.\u001b[39;00m\u001b[38;5;21;01mmicrocontroller\u001b[39;00m\u001b[38;5;21;01m.\u001b[39;00m\u001b[38;5;21;01mamlogic\u001b[39;00m\u001b[38;5;21;01m.\u001b[39;00m\u001b[38;5;21;01mmeson_g12_common\u001b[39;00m\u001b[38;5;21;01m.\u001b[39;00m\u001b[38;5;21;01mpin\u001b[39;00m \u001b[38;5;28;01mimport\u001b[39;00m \u001b[38;5;241m*\u001b[39m\n",
      "File \u001b[0;32m/opt/conda/lib/python3.11/site-packages/adafruit_blinka/microcontroller/amlogic/meson_g12_common/pin.py:17\u001b[0m\n\u001b[1;32m     15\u001b[0m \u001b[38;5;28;01mfrom\u001b[39;00m \u001b[38;5;21;01madafruit_blinka\u001b[39;00m\u001b[38;5;21;01m.\u001b[39;00m\u001b[38;5;21;01magnostic\u001b[39;00m \u001b[38;5;28;01mimport\u001b[39;00m detector\n\u001b[1;32m     16\u001b[0m \u001b[38;5;28;01mfrom\u001b[39;00m \u001b[38;5;21;01madafruit_blinka\u001b[39;00m\u001b[38;5;21;01m.\u001b[39;00m\u001b[38;5;21;01mmicrocontroller\u001b[39;00m\u001b[38;5;21;01m.\u001b[39;00m\u001b[38;5;21;01malias\u001b[39;00m \u001b[38;5;28;01mimport\u001b[39;00m get_dts_alias\n\u001b[0;32m---> 17\u001b[0m \u001b[38;5;28;01mfrom\u001b[39;00m \u001b[38;5;21;01madafruit_blinka\u001b[39;00m\u001b[38;5;21;01m.\u001b[39;00m\u001b[38;5;21;01mmicrocontroller\u001b[39;00m\u001b[38;5;21;01m.\u001b[39;00m\u001b[38;5;21;01mgeneric_linux\u001b[39;00m\u001b[38;5;21;01m.\u001b[39;00m\u001b[38;5;21;01mlibgpiod_pin\u001b[39;00m \u001b[38;5;28;01mimport\u001b[39;00m Pin\n\u001b[1;32m     19\u001b[0m \u001b[38;5;28;01mtry\u001b[39;00m:\n\u001b[1;32m     20\u001b[0m     \u001b[38;5;28;01mimport\u001b[39;00m \u001b[38;5;21;01mgpiod\u001b[39;00m\n",
      "File \u001b[0;32m/opt/conda/lib/python3.11/site-packages/adafruit_blinka/microcontroller/generic_linux/libgpiod_pin.py:8\u001b[0m\n\u001b[1;32m      6\u001b[0m     \u001b[38;5;28;01mimport\u001b[39;00m \u001b[38;5;21;01mgpiod\u001b[39;00m\n\u001b[1;32m      7\u001b[0m \u001b[38;5;28;01mexcept\u001b[39;00m \u001b[38;5;167;01mImportError\u001b[39;00m:\n\u001b[0;32m----> 8\u001b[0m     \u001b[38;5;28;01mraise\u001b[39;00m \u001b[38;5;167;01mImportError\u001b[39;00m(\n\u001b[1;32m      9\u001b[0m         \u001b[38;5;124m\"\u001b[39m\u001b[38;5;124mlibgpiod Python bindings not found, please install and try again! See \u001b[39m\u001b[38;5;124m\"\u001b[39m\n\u001b[1;32m     10\u001b[0m         \u001b[38;5;124m\"\u001b[39m\u001b[38;5;124mhttps://github.com/adafruit/Raspberry-Pi-Installer-Scripts/blob/master/libgpiod.sh\u001b[39m\u001b[38;5;124m\"\u001b[39m\n\u001b[1;32m     11\u001b[0m     ) \u001b[38;5;28;01mfrom\u001b[39;00m \u001b[38;5;21;01mImportError\u001b[39;00m\n\u001b[1;32m     14\u001b[0m \u001b[38;5;66;03m# pylint: disable=too-many-branches,too-many-statements\u001b[39;00m\n\u001b[1;32m     15\u001b[0m \u001b[38;5;28;01mclass\u001b[39;00m \u001b[38;5;21;01mPin\u001b[39;00m:\n",
      "\u001b[0;31mImportError\u001b[0m: libgpiod Python bindings not found, please install and try again! See https://github.com/adafruit/Raspberry-Pi-Installer-Scripts/blob/master/libgpiod.sh"
     ]
    }
   ],
   "source": [
    "import time\n",
    "from adafruit_servokit import ServoKit  "
   ]
  },
  {
   "cell_type": "code",
   "execution_count": 12,
   "id": "2484a2ca-54e3-4c2b-a910-76b3c881720a",
   "metadata": {},
   "outputs": [
    {
     "name": "stdout",
     "output_type": "stream",
     "text": [
      "\u001b[31mERROR: Could not find a version that satisfies the requirement python3-libgpiod (from versions: none)\u001b[0m\u001b[31m\n",
      "\u001b[0m\u001b[31mERROR: No matching distribution found for python3-libgpiod\u001b[0m\u001b[31m\n",
      "\u001b[0m"
     ]
    }
   ],
   "source": [
    "!pip install python3-libgpiod"
   ]
  },
  {
   "cell_type": "code",
   "execution_count": 11,
   "id": "18aa495f-cf3c-499d-8b25-b71aca4d55ae",
   "metadata": {},
   "outputs": [
    {
     "name": "stdout",
     "output_type": "stream",
     "text": [
      "Requirement already satisfied: Adafruit-PlatformDetect in /opt/conda/lib/python3.11/site-packages (3.57.0)\n"
     ]
    }
   ],
   "source": [
    "!pip install Adafruit-PlatformDetect -U"
   ]
  },
  {
   "cell_type": "code",
   "execution_count": 14,
   "id": "9b0b9996-f697-4994-9006-833ccc2307f3",
   "metadata": {},
   "outputs": [
    {
     "name": "stdout",
     "output_type": "stream",
     "text": [
      "/bin/bash: line 1: i2cdetect: command not found\n"
     ]
    }
   ],
   "source": [
    "!i2cdetect -y 1"
   ]
  },
  {
   "cell_type": "code",
   "execution_count": 15,
   "id": "45d7e13f-6eb9-47cf-bfd7-2423ca0c79fd",
   "metadata": {},
   "outputs": [
    {
     "name": "stdout",
     "output_type": "stream",
     "text": [
      "\u001b[31mERROR: Could not find a version that satisfies the requirement i2c-tools (from versions: none)\u001b[0m\u001b[31m\n",
      "\u001b[0m\u001b[31mERROR: No matching distribution found for i2c-tools\u001b[0m\u001b[31m\n",
      "\u001b[0m"
     ]
    }
   ],
   "source": [
    "!pip install i2c-tools"
   ]
  },
  {
   "cell_type": "code",
   "execution_count": 16,
   "id": "bf2bac11-bf93-4a8e-94d2-8c6f7f19eaba",
   "metadata": {},
   "outputs": [
    {
     "name": "stdout",
     "output_type": "stream",
     "text": [
      "pip 23.2.1 from /opt/conda/lib/python3.11/site-packages/pip (python 3.11)\n"
     ]
    }
   ],
   "source": [
    "!pip --version"
   ]
  },
  {
   "cell_type": "code",
   "execution_count": 17,
   "id": "1224e4d5-c3ce-430b-a5a4-2c13d651312f",
   "metadata": {},
   "outputs": [
    {
     "name": "stdout",
     "output_type": "stream",
     "text": [
      "Requirement already satisfied: pip in /opt/conda/lib/python3.11/site-packages (23.2.1)\n",
      "Collecting pip\n",
      "  Obtaining dependency information for pip from https://files.pythonhosted.org/packages/15/aa/3f4c7bcee2057a76562a5b33ecbd199be08cdb4443a02e26bd2c3cf6fc39/pip-23.3.2-py3-none-any.whl.metadata\n",
      "  Downloading pip-23.3.2-py3-none-any.whl.metadata (3.5 kB)\n",
      "Downloading pip-23.3.2-py3-none-any.whl (2.1 MB)\n",
      "\u001b[2K   \u001b[90m━━━━━━━━━━━━━━━━━━━━━━━━━━━━━━━━━━━━━━━━\u001b[0m \u001b[32m2.1/2.1 MB\u001b[0m \u001b[31m3.2 MB/s\u001b[0m eta \u001b[36m0:00:00\u001b[0m00:01\u001b[0m00:01\u001b[0m0m\n",
      "\u001b[?25hInstalling collected packages: pip\n",
      "  Attempting uninstall: pip\n",
      "    Found existing installation: pip 23.2.1\n",
      "    Uninstalling pip-23.2.1:\n",
      "      Successfully uninstalled pip-23.2.1\n",
      "Successfully installed pip-23.3.2\n",
      "Note: you may need to restart the kernel to use updated packages.\n"
     ]
    }
   ],
   "source": [
    "pip install --upgrade pip"
   ]
  },
  {
   "cell_type": "code",
   "execution_count": null,
   "id": "7f2ced2f-f72b-492f-a871-5e2af499575c",
   "metadata": {},
   "outputs": [],
   "source": []
  }
 ],
 "metadata": {
  "kernelspec": {
   "display_name": "Python 3 (ipykernel)",
   "language": "python",
   "name": "python3"
  },
  "language_info": {
   "codemirror_mode": {
    "name": "ipython",
    "version": 3
   },
   "file_extension": ".py",
   "mimetype": "text/x-python",
   "name": "python",
   "nbconvert_exporter": "python",
   "pygments_lexer": "ipython3",
   "version": "3.11.5"
  }
 },
 "nbformat": 4,
 "nbformat_minor": 5
}
